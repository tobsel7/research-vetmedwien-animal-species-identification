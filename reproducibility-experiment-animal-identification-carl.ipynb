{
 "cells": [
  {
   "cell_type": "markdown",
   "id": "0e864ae4-ad4a-451a-b17e-5444f28fdb6b",
   "metadata": {},
   "source": [
    "---\n",
    "title: Reproducibility Experiment for Carl et al. (2020)\n",
    "subtitle: \"ADD SUBTITLE\"\n",
    "date: 2025-09-03\n",
    "keywords: [\"machine learning\", \"reproducibility\", \"animal species classification\", \"computer vision\", \"neural networks\", \"cnn\", \"resnet\", \"tensorflow\", \"wildlife monitoring\"]\n",
    "exports: \n",
    "  - format: pdf\n",
    "    template: arxiv_nips\n",
    "---"
   ]
  },
  {
   "cell_type": "markdown",
   "id": "1a01c608-842d-4354-a254-c21ad9dfab3a",
   "metadata": {},
   "source": [
    "+++ {\"part\": \"abstract\"}\n",
    "This experiment attempts to reproduce the results of the paper [Automated detection of European wild mammal species in camera trap images with an existing and pre-trained computer vision model](doi:10.1007/s10344-020-01404-y), \n",
    "which tests the pretrained Google Inception-ResNet-v2 model for predicting animal species.\n",
    "We describe the required software, image loading processes, model outputs. Furthermore we calculate prediction global and per-class prediction accuracies and compare them to the metrics from the original paper.\n",
    "+++"
   ]
  },
  {
   "cell_type": "markdown",
   "id": "ffc3e352-9555-405e-a75a-857478b0360a",
   "metadata": {},
   "source": [
    "# Dependencies"
   ]
  },
  {
   "cell_type": "markdown",
   "id": "cae4dde4-7acb-4884-b968-a4f1640595b1",
   "metadata": {},
   "source": [
    "As the exact dependencies are not provided, state-of-the-art packages are chosen and installed and imported. The exact versions are shown in {numref}`table-requirements`."
   ]
  },
  {
   "cell_type": "code",
   "execution_count": null,
   "id": "0d66bb14-108a-4841-861a-b42ba643461c",
   "metadata": {
    "tags": [
     "remove-output"
    ]
   },
   "outputs": [],
   "source": [
    "!python3.12 -m pip install -r requirements.txt"
   ]
  },
  {
   "cell_type": "code",
   "execution_count": 7,
   "id": "924ea3ec-3bbb-4d52-abc8-3e0bb525a32e",
   "metadata": {
    "tags": [
     "remove-cell"
    ]
   },
   "outputs": [],
   "source": [
    "# image & data processing\n",
    "from pathlib import Path\n",
    "from PIL import Image\n",
    "import numpy as np\n",
    "import pandas as pd\n",
    "import tabulate\n",
    "# neural network\n",
    "import tensorflow as tf\n",
    "from tensorflow.keras.applications import InceptionResNetV2\n",
    "from tensorflow.keras.applications.inception_resnet_v2 import decode_predictions\n",
    "# evaluation\n",
    "from sklearn.metrics import accuracy_score, confusion_matrix\n",
    "# plot\n",
    "import matplotlib.pyplot as plt\n",
    "import seaborn as sns"
   ]
  },
  {
   "cell_type": "markdown",
   "id": "801b4eec-e40d-49f3-a762-c6588b1b2cf5",
   "metadata": {},
   "source": [
    "# Model"
   ]
  },
  {
   "cell_type": "code",
   "execution_count": 2,
   "id": "c13ca2a5-58e7-465a-b892-e01b22f3a3d3",
   "metadata": {
    "tags": [
     "remove-output"
    ]
   },
   "outputs": [
    {
     "name": "stderr",
     "output_type": "stream",
     "text": [
      "2025-09-04 02:20:47.017300: E external/local_xla/xla/stream_executor/cuda/cuda_platform.cc:51] failed call to cuInit: INTERNAL: CUDA error: Failed call to cuInit: UNKNOWN ERROR (303)\n"
     ]
    }
   ],
   "source": [
    "model = InceptionResNetV2(weights=\"imagenet\")"
   ]
  },
  {
   "cell_type": "markdown",
   "id": "a2756fa1-5497-4169-93a1-7ff0cd856622",
   "metadata": {},
   "source": [
    "# Data\n",
    "For the experiment, 90 common animals are used. They are sourced from Google images and provided in a labeled format in @banerjee2024animal. The Kaggle dataset is rather large. To mimic the original experiment setup, only 10 samples are used for each species."
   ]
  },
  {
   "cell_type": "code",
   "execution_count": 3,
   "id": "8a09bccc-0d76-40f1-ac09-90cea5145796",
   "metadata": {
    "tags": [
     "remove-cell"
    ]
   },
   "outputs": [],
   "source": [
    "DATA_PATH = Path(\"data/kaggle-90-different-animals\")\n",
    "model_input_size = model.input_shape[1:3] # the required image dimensions (299, 299)"
   ]
  },
  {
   "cell_type": "markdown",
   "id": "2b5e7d79-7fb5-42b9-b80b-de313d1b4c5e",
   "metadata": {},
   "source": [
    "## Data Preprocessing\n",
    "The images are loaded with three color channels (RGB), resized to 299 by 299 pixels and converted into an 1-dimensional vector. The color intensities are scaled to be floating point numbers from 0 to 1. This is the minimal preprocessing required to fit the required input size of the neural network."
   ]
  },
  {
   "cell_type": "markdown",
   "id": "b5c88843-7ffa-443b-9076-1c80ac52b33a",
   "metadata": {},
   "source": [
    "```{image} data/kaggle-90-different-animals/wombat/2a6c3fd292.jpg\n",
    ":align: center\n",
    ":alt: Example input image\n",
    "```"
   ]
  },
  {
   "cell_type": "code",
   "execution_count": 4,
   "id": "e40140f1-0592-413b-a60c-9aa9403ca6fb",
   "metadata": {},
   "outputs": [],
   "source": [
    "def load_normalized_image(path, target_size=model_input_size):\n",
    "    image = Image.open(path).convert(\"RGB\")\n",
    "    image = image.resize(target_size)\n",
    "    return np.array(image) / 255.0"
   ]
  },
  {
   "cell_type": "code",
   "execution_count": 6,
   "id": "cdd76cbc-623f-434e-bcf1-fa3801b4d712",
   "metadata": {
    "tags": [
     "remove-cell"
    ]
   },
   "outputs": [],
   "source": [
    "wildlife_image_paths = []\n",
    "\n",
    "animal_species = sorted([d.name for d in DATA_PATH.iterdir() if d.is_dir()])\n",
    "\n",
    "for species_name in animal_species:\n",
    "    animal_image_folder = DATA_PATH / species_name # every species has its image folder\n",
    "    for image_path in animal_image_folder.glob(\"*.jpg\"):\n",
    "        image_array = load_normalized_image(image_path)\n",
    "        wildlife_image_paths.append(image_path)"
   ]
  },
  {
   "cell_type": "markdown",
   "id": "a4d1c34b-5950-4d78-bbec-a6f9a540f6cd",
   "metadata": {},
   "source": [
    "The testing data is constructed by stacking the vectors and using the folder names as the label."
   ]
  },
  {
   "cell_type": "code",
   "execution_count": 9,
   "id": "9c43f760-8384-41d0-9138-501329a5d42c",
   "metadata": {},
   "outputs": [],
   "source": [
    "animal_images = [load_normalized_image(p) for p in wildlife_image_paths]\n",
    "animal_species = [p.parent.name for p in wildlife_image_paths]\n",
    "\n",
    "X_test = np.stack(animal_images, axis=0)\n",
    "y_true = animal_species"
   ]
  },
  {
   "cell_type": "markdown",
   "id": "977c61ad-f992-446b-9b60-b72c2e764889",
   "metadata": {},
   "source": [
    "# Test\n",
    "To relate the output from the neural network to the labels from the dataset, only the output from the top neuron of the final softmax layer is used for each prediction. "
   ]
  },
  {
   "cell_type": "code",
   "execution_count": 11,
   "id": "57705620-c7a5-416b-9393-57a72bf9ad80",
   "metadata": {
    "tags": [
     "hide-output"
    ]
   },
   "outputs": [
    {
     "name": "stderr",
     "output_type": "stream",
     "text": [
      "2025-09-04 02:26:26.949382: W external/local_xla/xla/tsl/framework/cpu_allocator_impl.cc:83] Allocation of 965530800 exceeds 10% of free system memory.\n"
     ]
    },
    {
     "name": "stdout",
     "output_type": "stream",
     "text": [
      "\u001b[1m29/29\u001b[0m \u001b[32m━━━━━━━━━━━━━━━━━━━━\u001b[0m\u001b[37m\u001b[0m \u001b[1m111s\u001b[0m 4s/step\n"
     ]
    }
   ],
   "source": [
    "y_pred = model.predict(X_test)\n",
    "y_pred = [pred[0][1] for pred in decode_predictions(y_pred, top=1)]"
   ]
  },
  {
   "cell_type": "markdown",
   "id": "cf2dc938-cbe0-42c5-937c-b2e2db96b132",
   "metadata": {},
   "source": [
    "When comparing the true labels and the predictions, it becomes apparent, that the model actually yields usable results. Almost all inference outputs are animal species somehow related to the one present in the image. This shows that the InceptionResNetV2 is generalizable to some extent."
   ]
  },
  {
   "cell_type": "code",
   "execution_count": 14,
   "id": "1d0b2297-2127-4b8f-bdd4-e02299daf908",
   "metadata": {
    "tags": [
     "remove-cell"
    ]
   },
   "outputs": [
    {
     "data": {
      "text/html": [
       "<div>\n",
       "<style scoped>\n",
       "    .dataframe tbody tr th:only-of-type {\n",
       "        vertical-align: middle;\n",
       "    }\n",
       "\n",
       "    .dataframe tbody tr th {\n",
       "        vertical-align: top;\n",
       "    }\n",
       "\n",
       "    .dataframe thead th {\n",
       "        text-align: right;\n",
       "    }\n",
       "</style>\n",
       "<table border=\"1\" class=\"dataframe\">\n",
       "  <thead>\n",
       "    <tr style=\"text-align: right;\">\n",
       "      <th></th>\n",
       "      <th>y_true</th>\n",
       "      <th>y_pred</th>\n",
       "    </tr>\n",
       "  </thead>\n",
       "  <tbody>\n",
       "    <tr>\n",
       "      <th>0</th>\n",
       "      <td>antelope</td>\n",
       "      <td>gazelle</td>\n",
       "    </tr>\n",
       "    <tr>\n",
       "      <th>1</th>\n",
       "      <td>antelope</td>\n",
       "      <td>impala</td>\n",
       "    </tr>\n",
       "    <tr>\n",
       "      <th>2</th>\n",
       "      <td>antelope</td>\n",
       "      <td>impala</td>\n",
       "    </tr>\n",
       "    <tr>\n",
       "      <th>3</th>\n",
       "      <td>antelope</td>\n",
       "      <td>gazelle</td>\n",
       "    </tr>\n",
       "    <tr>\n",
       "      <th>4</th>\n",
       "      <td>antelope</td>\n",
       "      <td>gazelle</td>\n",
       "    </tr>\n",
       "    <tr>\n",
       "      <th>...</th>\n",
       "      <td>...</td>\n",
       "      <td>...</td>\n",
       "    </tr>\n",
       "    <tr>\n",
       "      <th>895</th>\n",
       "      <td>zebra</td>\n",
       "      <td>zebra</td>\n",
       "    </tr>\n",
       "    <tr>\n",
       "      <th>896</th>\n",
       "      <td>zebra</td>\n",
       "      <td>zebra</td>\n",
       "    </tr>\n",
       "    <tr>\n",
       "      <th>897</th>\n",
       "      <td>zebra</td>\n",
       "      <td>zebra</td>\n",
       "    </tr>\n",
       "    <tr>\n",
       "      <th>898</th>\n",
       "      <td>zebra</td>\n",
       "      <td>zebra</td>\n",
       "    </tr>\n",
       "    <tr>\n",
       "      <th>899</th>\n",
       "      <td>zebra</td>\n",
       "      <td>zebra</td>\n",
       "    </tr>\n",
       "  </tbody>\n",
       "</table>\n",
       "<p>900 rows × 2 columns</p>\n",
       "</div>"
      ],
      "text/plain": [
       "       y_true   y_pred\n",
       "0    antelope  gazelle\n",
       "1    antelope   impala\n",
       "2    antelope   impala\n",
       "3    antelope  gazelle\n",
       "4    antelope  gazelle\n",
       "..        ...      ...\n",
       "895     zebra    zebra\n",
       "896     zebra    zebra\n",
       "897     zebra    zebra\n",
       "898     zebra    zebra\n",
       "899     zebra    zebra\n",
       "\n",
       "[900 rows x 2 columns]"
      ]
     },
     "execution_count": 14,
     "metadata": {},
     "output_type": "execute_result"
    }
   ],
   "source": [
    "species_recognition_result = pd.DataFrame({\n",
    "    \"y_true\": y_true,\n",
    "    \"y_pred\": y_pred\n",
    "})\n",
    "species_recognition_result"
   ]
  },
  {
   "cell_type": "markdown",
   "id": "a4a8e370-e4da-4ce2-9674-8b8379824f6a",
   "metadata": {},
   "source": [
    "## Label Mapping\n",
    "One big issue with this experiment is the set of classes known to the model which do not match the dataset used for testing. To calculate some sensible performance metrics, the animal species labels need to be mapped first. Note that this results in lost semantic information, because multiple species are often mapped to one single family (e.g., American Black Bear and Brown Bear are both mapped to simply bear). View {numref}`table-imagenet-label-mapping` for details."
   ]
  },
  {
   "cell_type": "code",
   "execution_count": 15,
   "id": "f512d620-fdaa-42eb-a570-56e011303871",
   "metadata": {
    "tags": [
     "remove-cell"
    ]
   },
   "outputs": [],
   "source": [
    "imagenet_to_kaggle = {\n",
    "    \"gazelle\": \"antelope\",\n",
    "    \"impala\": \"antelope\",\n",
    "    \"American_black_bear\": \"bear\",\n",
    "    \"brown_bear\": \"bear\",\n",
    "    \"ground_beetle\": \"beetle\",\n",
    "    \"leaf_beetle\": \"beetle\",\n",
    "    \"rhinoceros_beetle\": \"beetle\",\n",
    "    \"dung_beetle\": \"beetle\",\n",
    "    \"wild_boar\": \"boar\",\n",
    "    \"ringlet\": \"butterfly\",\n",
    "    \"monarch\": \"butterfly\",\n",
    "    \"sulphur_butterfly\": \"butterfly\",\n",
    "    \"lycaenid\": \"butterfly\",\n",
    "    \"Egyptian_cat\": \"cat\",\n",
    "    \"tabby\": \"cat\",\n",
    "    \"Siamese_cat\": \"cat\",\n",
    "    \"Persian_cat\": \"cat\",\n",
    "    \"lynx\": \"cat\",\n",
    "    \"ox\": \"cow\",\n",
    "    \"water_buffalo\": \"cow\",\n",
    "    \"Dungeness_crab\": \"crab\",\n",
    "    \"red_deer\": \"deer\",\n",
    "    \"elk\": \"deer\",\n",
    "    \"Labrador_retriever\": \"dog\",\n",
    "    \"Border_collie\": \"dog\",\n",
    "    \"Chihuahua\": \"dog\",\n",
    "    \"Bouvier_des_Flandres\": \"dog\",\n",
    "    \"Brittany_spaniel\": \"dog\",\n",
    "    \"English_setter\": \"dog\",\n",
    "    \"Greater_Swiss_Mountain_dog\": \"dog\",\n",
    "    \"Ibizan_hound\": \"dog\",\n",
    "    \"Mexican_hairless\": \"dog\",\n",
    "    \"Pekinese\": \"dog\",\n",
    "    \"Pomeranian\": \"dog\", \n",
    "    \"golden_retriever\": \"dog\",\n",
    "    \"pug\": \"dog\",\n",
    "    \"ass\": \"donkey\",\n",
    "    \"mallard\": \"duck\",\n",
    "    \"bald_eagle\": \"eagle\",\n",
    "    \"golden_eagle\": \"eagle\",\n",
    "    \"African_elephant\": \"elephant\",\n",
    "    \"Indian_elephant\": \"elephant\",\n",
    "    \"Arctic_fox\": \"fox\",\n",
    "    \"red_fox\": \"fox\",\n",
    "    \"ibex\": \"goat\",\n",
    "    \"mountain_goat\": \"goat\",\n",
    "    \"Arabian_horse\": \"horse\",\n",
    "    \"Appaloosa\": \"horse\",\n",
    "    \"wallaby\": \"kangaroo\",\n",
    "    \"agama\": \"lizard\",\n",
    "    \"alligator_lizard\": \"lizard\",\n",
    "    \"Komodo_dragon\": \"lizard\",\n",
    "    \"American_lobster\": \"lobster\",\n",
    "    \"house_mouse\": \"mouse\",\n",
    "}\n",
    "\n",
    "species_recognition_result[\"y_pred_mapped\"] = species_recognition_result[\"y_pred\"].map(\n",
    "    lambda l: imagenet_to_kaggle.get(l, l) # safe map accessor (labels that are not present in the dict keys, remain unchanged)\n",
    ")"
   ]
  },
  {
   "cell_type": "markdown",
   "id": "8b1bb2ff-e885-4ca9-8095-ceff8fe1a675",
   "metadata": {},
   "source": [
    "# Evalution"
   ]
  },
  {
   "cell_type": "code",
   "execution_count": 16,
   "id": "54d64d76-4955-4fae-a9ff-2c5a6dd591a5",
   "metadata": {
    "tags": [
     "remove-cell"
    ]
   },
   "outputs": [
    {
     "data": {
      "text/plain": [
       "0.4622222222222222"
      ]
     },
     "execution_count": 16,
     "metadata": {},
     "output_type": "execute_result"
    }
   ],
   "source": [
    "accuracy_score(species_recognition_result[\"y_true\"], species_recognition_result[\"y_pred_mapped\"])"
   ]
  },
  {
   "cell_type": "code",
   "execution_count": 17,
   "id": "a917030d-7e9c-499f-bcbf-fcd60b4a9ba2",
   "metadata": {
    "tags": [
     "remove-cell"
    ]
   },
   "outputs": [
    {
     "data": {
      "text/plain": [
       "y_true\n",
       "bison         1.0\n",
       "bear          1.0\n",
       "boar          1.0\n",
       "eagle         1.0\n",
       "cockroach     1.0\n",
       "             ... \n",
       "turkey        0.0\n",
       "whale         0.0\n",
       "turtle        0.0\n",
       "wolf          0.0\n",
       "woodpecker    0.0\n",
       "Name: correct, Length: 90, dtype: float64"
      ]
     },
     "execution_count": 17,
     "metadata": {},
     "output_type": "execute_result"
    }
   ],
   "source": [
    "species_recognition_result.assign(correct = species_recognition_result[\"y_true\"] == species_recognition_result[\"y_pred_mapped\"]).groupby(\"y_true\")[\"correct\"].mean().sort_values(ascending=False)"
   ]
  },
  {
   "cell_type": "code",
   "execution_count": 11,
   "id": "2b53ff2d-1085-456c-8f97-e014a36d939e",
   "metadata": {
    "tags": [
     "remove-cell"
    ]
   },
   "outputs": [
    {
     "data": {
      "text/html": [
       "<div>\n",
       "<style scoped>\n",
       "    .dataframe tbody tr th:only-of-type {\n",
       "        vertical-align: middle;\n",
       "    }\n",
       "\n",
       "    .dataframe tbody tr th {\n",
       "        vertical-align: top;\n",
       "    }\n",
       "\n",
       "    .dataframe thead th {\n",
       "        text-align: right;\n",
       "    }\n",
       "</style>\n",
       "<table border=\"1\" class=\"dataframe\">\n",
       "  <thead>\n",
       "    <tr style=\"text-align: right;\">\n",
       "      <th></th>\n",
       "      <th>y_true</th>\n",
       "      <th>y_pred</th>\n",
       "      <th>y_pred_mapped</th>\n",
       "    </tr>\n",
       "  </thead>\n",
       "  <tbody>\n",
       "    <tr>\n",
       "      <th>6</th>\n",
       "      <td>antelope</td>\n",
       "      <td>ibex</td>\n",
       "      <td>goat</td>\n",
       "    </tr>\n",
       "    <tr>\n",
       "      <th>14</th>\n",
       "      <td>badger</td>\n",
       "      <td>American_black_bear</td>\n",
       "      <td>bear</td>\n",
       "    </tr>\n",
       "    <tr>\n",
       "      <th>20</th>\n",
       "      <td>bat</td>\n",
       "      <td>hummingbird</td>\n",
       "      <td>hummingbird</td>\n",
       "    </tr>\n",
       "    <tr>\n",
       "      <th>21</th>\n",
       "      <td>bat</td>\n",
       "      <td>wood_rabbit</td>\n",
       "      <td>wood_rabbit</td>\n",
       "    </tr>\n",
       "    <tr>\n",
       "      <th>22</th>\n",
       "      <td>bat</td>\n",
       "      <td>hook</td>\n",
       "      <td>hook</td>\n",
       "    </tr>\n",
       "    <tr>\n",
       "      <th>...</th>\n",
       "      <td>...</td>\n",
       "      <td>...</td>\n",
       "      <td>...</td>\n",
       "    </tr>\n",
       "    <tr>\n",
       "      <th>885</th>\n",
       "      <td>woodpecker</td>\n",
       "      <td>hornbill</td>\n",
       "      <td>hornbill</td>\n",
       "    </tr>\n",
       "    <tr>\n",
       "      <th>886</th>\n",
       "      <td>woodpecker</td>\n",
       "      <td>bittern</td>\n",
       "      <td>bittern</td>\n",
       "    </tr>\n",
       "    <tr>\n",
       "      <th>887</th>\n",
       "      <td>woodpecker</td>\n",
       "      <td>bittern</td>\n",
       "      <td>bittern</td>\n",
       "    </tr>\n",
       "    <tr>\n",
       "      <th>888</th>\n",
       "      <td>woodpecker</td>\n",
       "      <td>hornbill</td>\n",
       "      <td>hornbill</td>\n",
       "    </tr>\n",
       "    <tr>\n",
       "      <th>889</th>\n",
       "      <td>woodpecker</td>\n",
       "      <td>bee</td>\n",
       "      <td>bee</td>\n",
       "    </tr>\n",
       "  </tbody>\n",
       "</table>\n",
       "<p>484 rows × 3 columns</p>\n",
       "</div>"
      ],
      "text/plain": [
       "         y_true               y_pred y_pred_mapped\n",
       "6      antelope                 ibex          goat\n",
       "14       badger  American_black_bear          bear\n",
       "20          bat          hummingbird   hummingbird\n",
       "21          bat          wood_rabbit   wood_rabbit\n",
       "22          bat                 hook          hook\n",
       "..          ...                  ...           ...\n",
       "885  woodpecker             hornbill      hornbill\n",
       "886  woodpecker              bittern       bittern\n",
       "887  woodpecker              bittern       bittern\n",
       "888  woodpecker             hornbill      hornbill\n",
       "889  woodpecker                  bee           bee\n",
       "\n",
       "[484 rows x 3 columns]"
      ]
     },
     "execution_count": 11,
     "metadata": {},
     "output_type": "execute_result"
    }
   ],
   "source": [
    "species_recognition_result[species_recognition_result[\"y_pred_mapped\"] != species_recognition_result[\"y_true\"]]"
   ]
  },
  {
   "cell_type": "code",
   "execution_count": 12,
   "id": "40b2aedc-02f9-49c6-ac40-8fa831baeb57",
   "metadata": {
    "tags": [
     "remove-cell"
    ]
   },
   "outputs": [],
   "source": [
    "species_recognition_result[species_recognition_result[\"y_pred_mapped\"] != species_recognition_result[\"y_true\"]].to_csv(\"species_recognition_result2.csv\", index=False)"
   ]
  },
  {
   "cell_type": "markdown",
   "id": "bc0bc3b2-7243-4663-a109-44c1ceab5ca9",
   "metadata": {},
   "source": [
    "# Summary"
   ]
  },
  {
   "cell_type": "markdown",
   "id": "e1657b70-9021-4849-9e20-ad8d18353e74",
   "metadata": {},
   "source": [
    "# Future Work"
   ]
  },
  {
   "cell_type": "markdown",
   "id": "b8b4cafb-91a2-42d0-84cd-12f62816805b",
   "metadata": {
    "tags": [
     "remove-cell"
    ]
   },
   "source": [
    "# Appendix"
   ]
  },
  {
   "cell_type": "markdown",
   "id": "9a83559e-38b7-49ec-9582-6ecd1d9fbd72",
   "metadata": {
    "tags": [
     "remove-cell"
    ]
   },
   "source": [
    "## Dependency Table"
   ]
  },
  {
   "cell_type": "code",
   "execution_count": 16,
   "id": "69d907ab-b266-40bf-a018-0fa32fc5c01e",
   "metadata": {
    "editable": true,
    "slideshow": {
     "slide_type": ""
    },
    "tags": [
     "remove-cell"
    ]
   },
   "outputs": [],
   "source": [
    "package_versions = {}\n",
    "with open(\"requirements.txt\", \"r\") as f:\n",
    "    for line in f:\n",
    "        line = line.strip()\n",
    "        if not line or line.startswith(\"#\"):\n",
    "            continue\n",
    "        if \"==\" in line:\n",
    "            pkg, ver = line.split(\"==\")\n",
    "            package_versions[pkg] = ver\n",
    "        else:\n",
    "            package_versions[line] = \"unknown\"\n",
    "            \n",
    "with open(\"figure/requirements.md\", \"w\") as f:\n",
    "    f.write(\n",
    "        pd.DataFrame({\n",
    "            \"package\": package_versions.keys(),\n",
    "            \"version\": package_versions.values()\n",
    "        }).to_markdown(index=False)\n",
    "    )"
   ]
  },
  {
   "cell_type": "markdown",
   "id": "29548eed-c3dc-42a5-9644-5cad8d7cea06",
   "metadata": {},
   "source": [
    "```{table} \n",
    ":name: table-requirements\n",
    ":align: center\n",
    "\n",
    "Runtime dependencies\n",
    "```{include} figure/requirements.md"
   ]
  },
  {
   "cell_type": "markdown",
   "id": "3ef27d12-1ca3-47a4-86c8-631599cc9227",
   "metadata": {
    "tags": [
     "remove-cell"
    ]
   },
   "source": [
    "## Imagenet Label Mapping Table"
   ]
  },
  {
   "cell_type": "code",
   "execution_count": 17,
   "id": "3ff4fc51-db9e-4471-82ce-5d57cc0eb868",
   "metadata": {
    "editable": true,
    "slideshow": {
     "slide_type": ""
    },
    "tags": [
     "remove-cell"
    ]
   },
   "outputs": [
    {
     "ename": "NameError",
     "evalue": "name 'imagenet_to_kaggle' is not defined",
     "output_type": "error",
     "traceback": [
      "\u001b[31m---------------------------------------------------------------------------\u001b[39m",
      "\u001b[31mNameError\u001b[39m                                 Traceback (most recent call last)",
      "\u001b[36mCell\u001b[39m\u001b[36m \u001b[39m\u001b[32mIn[17]\u001b[39m\u001b[32m, line 4\u001b[39m\n\u001b[32m      1\u001b[39m \u001b[38;5;28;01mwith\u001b[39;00m \u001b[38;5;28mopen\u001b[39m(\u001b[33m\"\u001b[39m\u001b[33mfigure/imagenet_label_mapping.md\u001b[39m\u001b[33m\"\u001b[39m, \u001b[33m\"\u001b[39m\u001b[33mw\u001b[39m\u001b[33m\"\u001b[39m) \u001b[38;5;28;01mas\u001b[39;00m f:\n\u001b[32m      2\u001b[39m     f.write(\n\u001b[32m      3\u001b[39m         pd.DataFrame({\n\u001b[32m----> \u001b[39m\u001b[32m4\u001b[39m             \u001b[33m\"\u001b[39m\u001b[33mimagenet label\u001b[39m\u001b[33m\"\u001b[39m: \u001b[43mimagenet_to_kaggle\u001b[49m.keys(),\n\u001b[32m      5\u001b[39m             \u001b[33m\"\u001b[39m\u001b[33mmapped label\u001b[39m\u001b[33m\"\u001b[39m: imagenet_to_kaggle.values()\n\u001b[32m      6\u001b[39m         }).groupby(\u001b[33m\"\u001b[39m\u001b[33mmapped label\u001b[39m\u001b[33m\"\u001b[39m)[\u001b[33m\"\u001b[39m\u001b[33mimagenet label\u001b[39m\u001b[33m\"\u001b[39m].apply(\n\u001b[32m      7\u001b[39m             \u001b[38;5;28;01mlambda\u001b[39;00m labels: \u001b[33m\"\u001b[39m\u001b[33m, \u001b[39m\u001b[33m\"\u001b[39m.join(labels)\n\u001b[32m      8\u001b[39m         ).reset_index().to_markdown(index=\u001b[38;5;28;01mFalse\u001b[39;00m)\n\u001b[32m      9\u001b[39m     )\n",
      "\u001b[31mNameError\u001b[39m: name 'imagenet_to_kaggle' is not defined"
     ]
    }
   ],
   "source": [
    "with open(\"figure/imagenet_label_mapping.md\", \"w\") as f:\n",
    "    f.write(\n",
    "        pd.DataFrame({\n",
    "            \"imagenet label\": imagenet_to_kaggle.keys(),\n",
    "            \"mapped label\": imagenet_to_kaggle.values()\n",
    "        }).groupby(\"mapped label\")[\"imagenet label\"].apply(\n",
    "            lambda labels: \", \".join(labels)\n",
    "        ).reset_index().to_markdown(index=False)\n",
    "    )"
   ]
  },
  {
   "cell_type": "markdown",
   "id": "691d822a-b350-4b6a-88ec-3decce53066f",
   "metadata": {},
   "source": [
    "```{table} \n",
    ":name: table-imagenet-label-mapping\n",
    ":align: center\n",
    "\n",
    "Imagenet label mapping\n",
    "```{include} figure/imagenet_label_mapping.md"
   ]
  },
  {
   "cell_type": "markdown",
   "id": "89b1f8c9-6a23-4f9f-b603-42008a0a5089",
   "metadata": {
    "tags": [
     "remove-cell"
    ]
   },
   "source": [
    "## Inference Output Table"
   ]
  },
  {
   "cell_type": "code",
   "execution_count": 29,
   "id": "16fc0cdf-5032-40d7-9f29-7c213f19e781",
   "metadata": {
    "tags": [
     "remove-cell"
    ]
   },
   "outputs": [],
   "source": [
    "github_animal_image_paths = [\n",
    "    f\"[{p.parent.name}](https://github.com/tobsel7/research-vetmedwien-animal-species-identification/raw/main/{p})\"\n",
    "    for p in wildlife_image_paths\n",
    "]\n",
    "\n",
    "with open(\"figure/species_recognition_result.md\", \"w\") as f:\n",
    "    f.write(\n",
    "        pd.DataFrame({\n",
    "            \"truth\": github_animal_image_paths,\n",
    "            \"mapped prediction\": species_recognition_result[\"y_pred_mapped\"],\n",
    "            \"model prediction\": species_recognition_result[\"y_pred\"]\n",
    "        }).to_markdown(index=False)\n",
    "    )"
   ]
  },
  {
   "cell_type": "markdown",
   "id": "f64815cc-1b85-4649-afeb-e5588e9d5ff9",
   "metadata": {},
   "source": [
    "```{table} \n",
    ":name: species-recognition-result\n",
    ":align: center\n",
    "\n",
    "Inception-ResNet-v2 predictions\n",
    "```{include} figure/species_recognition_result.md"
   ]
  },
  {
   "cell_type": "code",
   "execution_count": null,
   "id": "deb13172-9af4-4e71-a323-f157c94f7487",
   "metadata": {},
   "outputs": [],
   "source": []
  }
 ],
 "metadata": {
  "kernelspec": {
   "display_name": "Python 3 (ipykernel)",
   "language": "python",
   "name": "python3"
  },
  "language_info": {
   "codemirror_mode": {
    "name": "ipython",
    "version": 3
   },
   "file_extension": ".py",
   "mimetype": "text/x-python",
   "name": "python",
   "nbconvert_exporter": "python",
   "pygments_lexer": "ipython3",
   "version": "3.12.3"
  }
 },
 "nbformat": 4,
 "nbformat_minor": 5
}
